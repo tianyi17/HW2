{
 "cells": [
  {
   "cell_type": "code",
   "execution_count": 1,
   "metadata": {},
   "outputs": [],
   "source": [
    "url = \"https://data.seattle.gov/api/views/38vd-gytv/rows.csv?accessType=DOWNLOAD\"\n",
    "url_try = 'https://data.seattle.gov/api/views/65db-xm6k/rows.csv?accessType=DOWNLOAD'"
   ]
  },
  {
   "cell_type": "code",
   "execution_count": 2,
   "metadata": {},
   "outputs": [],
   "source": [
    "from urllib.request import urlretrieve\n",
    "urlretrieve(url, \"flow\")\n",
    "urlretrieve(url_try, \"try\")\n",
    "import pandas as pd\n",
    "import numpy as np"
   ]
  },
  {
   "cell_type": "code",
   "execution_count": 3,
   "metadata": {},
   "outputs": [
    {
     "data": {
      "text/html": [
       "<div>\n",
       "<style scoped>\n",
       "    .dataframe tbody tr th:only-of-type {\n",
       "        vertical-align: middle;\n",
       "    }\n",
       "\n",
       "    .dataframe tbody tr th {\n",
       "        vertical-align: top;\n",
       "    }\n",
       "\n",
       "    .dataframe thead th {\n",
       "        text-align: right;\n",
       "    }\n",
       "</style>\n",
       "<table border=\"1\" class=\"dataframe\">\n",
       "  <thead>\n",
       "    <tr style=\"text-align: right;\">\n",
       "      <th></th>\n",
       "      <th>STNAME</th>\n",
       "      <th>COUNT_LOCATION</th>\n",
       "      <th>YEAR</th>\n",
       "      <th>SEGKEY</th>\n",
       "      <th>AAWDT</th>\n",
       "      <th>INPUT_STUDY_ID</th>\n",
       "    </tr>\n",
       "    <tr>\n",
       "      <th>OBJECTID</th>\n",
       "      <th></th>\n",
       "      <th></th>\n",
       "      <th></th>\n",
       "      <th></th>\n",
       "      <th></th>\n",
       "      <th></th>\n",
       "    </tr>\n",
       "  </thead>\n",
       "  <tbody>\n",
       "    <tr>\n",
       "      <th>1</th>\n",
       "      <td>RENTON AVE S</td>\n",
       "      <td>RENTON AVE S, N/O S CLOVERDALE ST</td>\n",
       "      <td>2014</td>\n",
       "      <td>12522</td>\n",
       "      <td>9800</td>\n",
       "      <td>315994</td>\n",
       "    </tr>\n",
       "    <tr>\n",
       "      <th>2</th>\n",
       "      <td>AIRPORT WAY S</td>\n",
       "      <td>AIRPORT WAY S, N/O S NORFOLK ST</td>\n",
       "      <td>2014</td>\n",
       "      <td>8702</td>\n",
       "      <td>12300</td>\n",
       "      <td>316688</td>\n",
       "    </tr>\n",
       "    <tr>\n",
       "      <th>3</th>\n",
       "      <td>N 65TH ST</td>\n",
       "      <td>N 65TH ST, W/O LINDEN AVE N</td>\n",
       "      <td>2014</td>\n",
       "      <td>15794</td>\n",
       "      <td>7800</td>\n",
       "      <td>314379</td>\n",
       "    </tr>\n",
       "    <tr>\n",
       "      <th>4</th>\n",
       "      <td>2ND AVE</td>\n",
       "      <td>2ND AVE, NW/O LENORA ST</td>\n",
       "      <td>2014</td>\n",
       "      <td>2762</td>\n",
       "      <td>11900</td>\n",
       "      <td>313796</td>\n",
       "    </tr>\n",
       "    <tr>\n",
       "      <th>5</th>\n",
       "      <td>LAKE CITY WAY NE</td>\n",
       "      <td>LAKE CITY WAY NE, S/O NE 145TH ST</td>\n",
       "      <td>2014</td>\n",
       "      <td>11190</td>\n",
       "      <td>40900</td>\n",
       "      <td>316269</td>\n",
       "    </tr>\n",
       "  </tbody>\n",
       "</table>\n",
       "</div>"
      ],
      "text/plain": [
       "                    STNAME                     COUNT_LOCATION  YEAR  SEGKEY  \\\n",
       "OBJECTID                                                                      \n",
       "1             RENTON AVE S  RENTON AVE S, N/O S CLOVERDALE ST  2014   12522   \n",
       "2            AIRPORT WAY S    AIRPORT WAY S, N/O S NORFOLK ST  2014    8702   \n",
       "3                N 65TH ST        N 65TH ST, W/O LINDEN AVE N  2014   15794   \n",
       "4                  2ND AVE            2ND AVE, NW/O LENORA ST  2014    2762   \n",
       "5         LAKE CITY WAY NE  LAKE CITY WAY NE, S/O NE 145TH ST  2014   11190   \n",
       "\n",
       "          AAWDT  INPUT_STUDY_ID  \n",
       "OBJECTID                         \n",
       "1          9800          315994  \n",
       "2         12300          316688  \n",
       "3          7800          314379  \n",
       "4         11900          313796  \n",
       "5         40900          316269  "
      ]
     },
     "execution_count": 3,
     "metadata": {},
     "output_type": "execute_result"
    }
   ],
   "source": [
    "data = pd.read_csv('flow', index_col = 'OBJECTID', parse_dates = True)\n",
    "data.head()\n"
   ]
  },
  {
   "cell_type": "code",
   "execution_count": 4,
   "metadata": {},
   "outputs": [],
   "source": [
    "#use this data to try the function \n",
    "data_try = pd.read_csv('try', index_col = 'Date',parse_dates = True)"
   ]
  },
  {
   "cell_type": "code",
   "execution_count": 5,
   "metadata": {},
   "outputs": [
    {
     "data": {
      "text/plain": [
       "True"
      ]
     },
     "execution_count": 5,
     "metadata": {},
     "output_type": "execute_result"
    }
   ],
   "source": [
    "#1 The DataFrame contains only the columns that you specified in #1.\n",
    "def columns(data_input):\n",
    "    column_name = ['STNAME', 'COUNT_LOCATION', 'YEAR', 'SEGKEY', 'AAWDT', 'INPUT_STUDY_ID']\n",
    "    if list(data_input) == column_name:\n",
    "        return True\n",
    "    else:\n",
    "        return False\n",
    "columns(data)"
   ]
  },
  {
   "cell_type": "code",
   "execution_count": 6,
   "metadata": {
    "scrolled": true
   },
   "outputs": [
    {
     "data": {
      "text/plain": [
       "False"
      ]
     },
     "execution_count": 6,
     "metadata": {},
     "output_type": "execute_result"
    }
   ],
   "source": [
    "#2 The columns contain the correct data type\n",
    "df = data\n",
    "data_type = df.dtypes\n",
    "def types(input):\n",
    "    if input.dtypes.all() == df.dtypes.all():\n",
    "        return True\n",
    "    \n",
    "    else:\n",
    "        return False\n",
    "types(data_try)\n"
   ]
  },
  {
   "cell_type": "code",
   "execution_count": 7,
   "metadata": {},
   "outputs": [
    {
     "data": {
      "text/plain": [
       "True"
      ]
     },
     "execution_count": 7,
     "metadata": {},
     "output_type": "execute_result"
    }
   ],
   "source": [
    "#3 There are at least 10 rows in the DataFrame.\n",
    "def numbers(data_input):\n",
    "    if len(data_input) > 10:\n",
    "        return True\n",
    "    else:\n",
    "        return False\n",
    "numbers(data)\n",
    "numbers(data_try)"
   ]
  },
  {
   "cell_type": "code",
   "execution_count": 8,
   "metadata": {},
   "outputs": [],
   "source": [
    "#Use the data_try to test the above function "
   ]
  },
  {
   "cell_type": "code",
   "execution_count": 9,
   "metadata": {},
   "outputs": [
    {
     "data": {
      "text/plain": [
       "False"
      ]
     },
     "execution_count": 9,
     "metadata": {},
     "output_type": "execute_result"
    }
   ],
   "source": [
    "\n",
    "def columns(data_input):\n",
    "    column_name = ['STNAME', 'COUNT_LOCATION', 'YEAR', 'SEGKEY', 'AAWDT', 'INPUT_STUDY_ID']\n",
    "    if list(data_input) == column_name:\n",
    "        return True\n",
    "    else:\n",
    "        return False\n",
    "columns(data_try)"
   ]
  },
  {
   "cell_type": "code",
   "execution_count": 10,
   "metadata": {},
   "outputs": [
    {
     "data": {
      "text/plain": [
       "False"
      ]
     },
     "execution_count": 10,
     "metadata": {},
     "output_type": "execute_result"
    }
   ],
   "source": [
    "df = data\n",
    "data_type = df.dtypes\n",
    "def types(input):\n",
    "    if input.dtypes.all() == df.dtypes.all():\n",
    "        return True\n",
    "    \n",
    "    else:\n",
    "        return False\n",
    "types(data_try)"
   ]
  },
  {
   "cell_type": "code",
   "execution_count": 11,
   "metadata": {},
   "outputs": [
    {
     "data": {
      "text/plain": [
       "True"
      ]
     },
     "execution_count": 11,
     "metadata": {},
     "output_type": "execute_result"
    }
   ],
   "source": [
    "def numbers(data_input):\n",
    "    if len(data_input) > 10:\n",
    "        return True\n",
    "    else:\n",
    "        return False\n",
    "numbers(data_try)"
   ]
  }
 ],
 "metadata": {
  "kernelspec": {
   "display_name": "Python 3",
   "language": "python",
   "name": "python3"
  },
  "language_info": {
   "codemirror_mode": {
    "name": "ipython",
    "version": 3
   },
   "file_extension": ".py",
   "mimetype": "text/x-python",
   "name": "python",
   "nbconvert_exporter": "python",
   "pygments_lexer": "ipython3",
   "version": "3.6.6"
  }
 },
 "nbformat": 4,
 "nbformat_minor": 2
}
